{
 "cells": [
  {
   "cell_type": "markdown",
   "metadata": {},
   "source": [
    "Written Analysis"
   ]
  },
  {
   "cell_type": "markdown",
   "metadata": {},
   "source": [
    "One of the trends I noticed in the analysis is that the top performing schools were charter schools as they had the top highest scores for math, reading, and percent overall success rate. They also had less students compared to the bottom performing schools. This could be due to less student to teacher ratio. This is important since teachers will be able to give each student the time and attention they need to succeed."
   ]
  },
  {
   "cell_type": "markdown",
   "metadata": {},
   "source": [
    "The bottom performing schools are district schools with less reading, math, and overal percent success rate. They also have a higher amount of students which could be a bigger teach to student ratio, therefore less quality time with each student. Something that was interesting is that the the bottom performing schools had a higher budget perstudent compared to the top performing school. This shows that it's not the amount of money allocated means higher success rate. Charter schools operate under different rules compared to the district and don't adhere to the typical school curriculum. I think they were able to allocate funds necessary and understood what they needs were compared to District schools that have specific requirements they need to follow."
   ]
  }
 ],
 "metadata": {
  "kernelspec": {
   "display_name": "Python 3.8.9 64-bit",
   "language": "python",
   "name": "python3"
  },
  "language_info": {
   "name": "python",
   "version": "3.8.9"
  },
  "orig_nbformat": 4,
  "vscode": {
   "interpreter": {
    "hash": "31f2aee4e71d21fbe5cf8b01ff0e069b9275f58929596ceb00d14d90e3e16cd6"
   }
  }
 },
 "nbformat": 4,
 "nbformat_minor": 2
}
